{
  "nbformat": 4,
  "nbformat_minor": 0,
  "metadata": {
    "colab": {
      "name": "Prova 1 - IA.ipynb",
      "provenance": [],
      "collapsed_sections": [],
      "authorship_tag": "ABX9TyMAsS04gqKWd5VbiQ54Ju1F",
      "include_colab_link": true
    },
    "kernelspec": {
      "name": "python3",
      "display_name": "Python 3"
    },
    "language_info": {
      "name": "python"
    }
  },
  "cells": [
    {
      "cell_type": "markdown",
      "metadata": {
        "id": "view-in-github",
        "colab_type": "text"
      },
      "source": [
        "<a href=\"https://colab.research.google.com/github/JhonataEzequiel/ProvaIA/blob/main/Prova_1_IA.ipynb\" target=\"_parent\"><img src=\"https://colab.research.google.com/assets/colab-badge.svg\" alt=\"Open In Colab\"/></a>"
      ]
    },
    {
      "cell_type": "markdown",
      "source": [
        "Aluno: Jhonata Ezequiel Alves de Miranda\n",
        "\n",
        "Matrícula: 20190046473"
      ],
      "metadata": {
        "id": "J_9lFHZyhrZA"
      }
    },
    {
      "cell_type": "markdown",
      "source": [
        "1 - (1 Ponto) Para cada um dos agentes a seguir, desenvolva uma descrição\n",
        "completando a tabela abaixo sobre o ambiente de tarefas de cada um.\n",
        "\n",
        "(a) Agente comentarista de jogo.\n",
        "\n",
        "(b) Agente sugestor de vinho.\n",
        "\n",
        "(c) Agente treinador de time (como de basquete)."
      ],
      "metadata": {
        "id": "4mcwlX5LdKkG"
      }
    },
    {
      "cell_type": "markdown",
      "source": [
        "Respostas: \n",
        "\n",
        "a) \n",
        "medidas de desempenho: porcentagem de frases ditas corretamente durante a narração, quantidade de lances previstos com sucesso pouco tempo antes de acontecerem;\n",
        "\n",
        "ambiente: partida atual ou antiga de um jogo;\n",
        "\n",
        "atuadores: alto-falantes;\n",
        "\n",
        "sensores: algorítmo de análise de vídeos.\n",
        "\n",
        "b)\n",
        "medidas de desempenho: média de aprovação dos clientes em relação a suas recomendações;\n",
        "\n",
        "ambiente: aplicativo de delievery de bebidas;\n",
        "\n",
        "atuadores: mensagens e notificações no aplicativo;\n",
        "\n",
        "sensores: coleta de dados de avaliação de determinado vinho.\n",
        "\n",
        "c)\n",
        "medidas de desempenho: melhoria do desempenho individual dos jogadores nas partidas (pontos marcados, passes acertados, etc), e quantidade de partidas ganhas;\n",
        "\n",
        "ambiente: quadra de basquete;\n",
        "\n",
        "atuadores: exibir sugestões em vídeos de estratégias e treinamentos para o time;\n",
        "\n",
        "sensores: detecção de lances, e dados físicos individuais dos jogadores (como peso, massa muscular, dieta, etc)."
      ],
      "metadata": {
        "id": "GddRIe5ndZxR"
      }
    },
    {
      "cell_type": "markdown",
      "source": [
        "2 - (2 Pontos) Diferencie os 4 tipos de aprendizado de máquina. Para tanto, escolha\n",
        "uma base de dados do Kaggle e explique como aplicar os 4 métodos nessa mesma\n",
        "base"
      ],
      "metadata": {
        "id": "1Yn9QdAEd7Ho"
      }
    },
    {
      "cell_type": "markdown",
      "source": [
        "Respostas:\n",
        "\n",
        "Link da base de dados: https://www.kaggle.com/datasets/jordancarlen/host-deaths-to-malenia-blade-of-miquella\n",
        "\n",
        "Base de dados: mortes ocasionadas por um chefe chamado “Malenia, lâmina de Miquela”, no jogo Elden Ring. OBS: a palavra “build” refere-se a maneira como o jogador construiu seu personagem, investindo pontos de experiência para cria-lo. Por exemplo, um mago precisa de bastante inteligência, então a “build” de um mago focaria neste atributo.\n",
        "\n",
        "O aprendizado supervisionado parte do princípio de que os rótulos das instâncias já são conhecidas, e quando uma nova é introduzida a IA tenta identificar a qual rótulo ela pertence. No caso dessa base de dados, seria possível determinar se a morte foi causada pelo ataque “waterflow dance” dependendo do tipo de build do personagem do jogador, já que jogadores magos tendem a possuir menos pontos de vida, portanto são mais sucetíveis a este ataque. O tipo de build já seria conhecido pela IA.\n",
        "\n",
        "No não-supervisionado, o rótulo das instâncias da base de dados são desconhecidas, e a IA tenta agrupar automaticamente os dados. Nesse caso,  é possível identifcar que os jogadores que demoraram mais a morrer podem estar em uma categoria diferente dos jogadores que morrem mais rapidamente no chefe.\n",
        "\n",
        "No semi-supervisionado, são conhecidos alguns rótulos de alguns exemplos e outros não, e cabe a IA decidir onde um novo exemplo se encaixará. Caso na base de dados em questão houver algum exemplo não rotulado, como a build do personagem não sendo dita, e um novo exemplo fosse inserido sem rótulo, a IA poderia averiguar os dados nele e junta-lo com outros exemplos parecidos, sendo rotulados ou não.\n",
        "\n",
        "Na aprendizagem por reforço, através da tentativa e erro a IA pode gerar resultados. É possível testar se determinadas builds são melhores contra o chefe em questão, se a porcentagem de personagens que morreram usando elas é pequena."
      ],
      "metadata": {
        "id": "Z0rO1hbwd0CB"
      }
    },
    {
      "cell_type": "markdown",
      "source": [
        "3 - (5 Pontos) Em um Jupyter Notebook (link do collab, GitHub ou arquivo), utilize o\n",
        "método K vizinhos mais próximos na base escolhida na questão anterior para um\n",
        "contexto SUPERVISIONADO e para classificação:\n",
        "1. Aplique processos de pré-processamento e os necessários para execução do\n",
        "método K-NN.\n",
        "2. Aplique correlação ou PCA e seleciona um número menor de atributos com\n",
        "esses métodos e justifique sua decisão.\n",
        "3. Escolha 5 valores de K e mostre os resultados (escolha 3 métricas de\n",
        "avaliação e mostre a matriz de confusão) e explique os resultados\n",
        "encontrados.\n",
        "4. Escolha 2 métricas de similaridade (diferentes distâncias ou outras métricas -\n",
        "correlação, por exemplo) para definir o(s) vizinho(s) mais próximos e explique\n",
        "os resultados encontrados.\n",
        "5. Melhor K e melhor distância e testar com o conjunto de atributos do item 2."
      ],
      "metadata": {
        "id": "flWqqmvSuDkA"
      }
    },
    {
      "cell_type": "code",
      "source": [
        "#topico 1.\n",
        "#este codigo precisara ser rodado para que os outros funcionem\n",
        "import numpy as np\n",
        "import pandas as pd\n",
        "import seaborn as sns\n",
        "import matplotlib.pyplot as plt\n",
        "from sklearn.neighbors import KNeighborsClassifier\n",
        "from sklearn.model_selection import train_test_split\n",
        "from sklearn.metrics import accuracy_score\n",
        "from sklearn.preprocessing import StandardScaler\n",
        "from sklearn.decomposition import PCA\n",
        "from sklearn import metrics\n",
        "from sklearn.metrics import confusion_matrix\n",
        "\n",
        "base = pd.read_csv('malenia.csv')\n",
        "base = base.dropna()\n",
        "\n",
        "#dividindo a base em duas, a primeira vai servir como medidas para determinar qual a build do jogador. A segunda será as builds que ja estao na base de dados\n",
        "#As medidas escolhidas foram as que achei necessarias para a predicao\n",
        "x = base[['Host_Death_Time', 'Level', 'Phase', 'Waterflow_Death', 'Health_Pct', 'Phantom_Count', 'Phantom_Death']]\n",
        "y = base[['Host_Build']]\n",
        "\n",
        "#divindo a base de dados em testes e treinamento\n",
        "X_train, X_test, y_train, y_test = train_test_split(x, np.ravel(y), random_state = 100)\n",
        "\n",
        "#criando um objeto classificador usando a metrica euclidiana, procurando por 5 vizinhos mais proximos, \n",
        "clf = KNeighborsClassifier(p=2, n_neighbors=5, weights = 'distance', algorithm = 'auto')\n",
        "\n",
        "#retirando as duplicatas\n",
        "X_train.drop_duplicates()\n",
        "\n",
        "#iniciando o algoritmo para comecar o treinamento\n",
        "clf.fit(X_train, y_train)"
      ],
      "metadata": {
        "id": "Z0yCyYuMwaMJ"
      },
      "execution_count": null,
      "outputs": []
    },
    {
      "cell_type": "code",
      "source": [
        "#predizendo a build do jogador\n",
        "predic = clf.predict(X_test)\n",
        "print(predic)"
      ],
      "metadata": {
        "id": "NRCs70u-OSUt"
      },
      "execution_count": null,
      "outputs": []
    },
    {
      "cell_type": "code",
      "source": [
        "#acuracia do algoritmo\n",
        "print(accuracy_score(y_test, predic))"
      ],
      "metadata": {
        "id": "yKVoEUcwDehZ"
      },
      "execution_count": null,
      "outputs": []
    },
    {
      "cell_type": "code",
      "source": [
        "#matriz de confusao\n",
        "\n",
        "mC = metrics.confusion_matrix(y_test, predic)\n",
        "print(\"Matriz de Confusão:\\n\",mC)"
      ],
      "metadata": {
        "id": "d1-QgqEalWx_"
      },
      "execution_count": null,
      "outputs": []
    },
    {
      "cell_type": "markdown",
      "source": [
        "Eu acredito que o resultado da acurácia não foi tão alto, pois há outros fatores que influeciam nas mortes dos jogadores, como a habilidade individual"
      ],
      "metadata": {
        "id": "_2nVTIDOEHou"
      }
    },
    {
      "cell_type": "code",
      "source": [
        "#topico 2.\n",
        "\n",
        "#preparacao para a construcao do pca\n",
        "X_Train = X_train.values\n",
        "X_Train = np.asarray(X_Train)\n",
        "\n",
        "# Encontrando o Array normalizado de X_Train\n",
        "X_std=StandardScaler().fit_transform(X_Train)\n",
        "\n",
        "#verificando a quantidade de atributos que serao usados no pca\n",
        "pca = PCA().fit(X_std)\n",
        "plt.plot(np.cumsum(pca.explained_variance_ratio_))\n",
        "plt.xlim(0,7,1)\n",
        "plt.xlabel('Numero de componentes')\n",
        "\n",
        "#nao sei se a traducao correta eh essa, mas o intuito era representar a \"Explained Variance Ratio\"\n",
        "plt.ylabel('Proporcao da Variancia Explicada')"
      ],
      "metadata": {
        "id": "euZQSmNnJPhA"
      },
      "execution_count": null,
      "outputs": []
    },
    {
      "cell_type": "markdown",
      "source": [
        "A escolha de 5 atributos foi feita a partir do resultado anterior, que mostrou que 100% da variância pode ser explicada a partir desses 5"
      ],
      "metadata": {
        "id": "BoiqyMgMM1Dh"
      }
    },
    {
      "cell_type": "code",
      "source": [
        "sklearn_pca = PCA(n_components=5)\n",
        "X_Train = sklearn_pca.fit_transform(X_std)\n",
        "\n",
        "#interface para vizualizar os resultados\n",
        "sns.set(style='darkgrid')\n",
        "f, ax = plt.subplots(figsize=(8, 8))\n",
        "ax = sns.kdeplot(X_Train[:,0], X_Train[:,1], cmap=\"Greens\",\n",
        "          shade=True, shade_lowest=False)\n",
        "ax = sns.kdeplot(X_Train[:,1], X_Train[:,2], cmap=\"Reds\",\n",
        "          shade=True, shade_lowest=False)\n",
        "ax = sns.kdeplot(X_Train[:,2], X_Train[:,3], cmap=\"Blues\",\n",
        "          shade=True, shade_lowest=False)\n",
        "red = sns.color_palette(\"Reds\")[-2]\n",
        "blue = sns.color_palette(\"Blues\")[-2]\n",
        "green = sns.color_palette(\"Greens\")[-2]\n",
        "ax.text(0.5, 0.5, \"segunda e terceira projecao\", size=12, color=blue)\n",
        "ax.text(-4, 0.0, \"primeira e terceira projecao\", size=12, color=red)\n",
        "ax.text(2, 0, \"primeira e segunda projecao\", size=12, color=green)\n",
        "plt.xlim(-6,5)\n",
        "plt.ylim(-2,2)"
      ],
      "metadata": {
        "id": "p_4ufRWpKPKo"
      },
      "execution_count": null,
      "outputs": []
    },
    {
      "cell_type": "code",
      "source": [
        "#topico 3.\n",
        "\n",
        "#selecionando os 5 primeiros valores da base (dados de treinamento)\n",
        "\n",
        "#f5 eh equivalente ao X_train do topico 1 e tgr5 ao Y_train\n",
        "f5 = base.iloc[[0,1,2,3,4]] #f5 significa first 5\n",
        "trg = f5[['Host_Build']] #trg significa target \n",
        "\n",
        "f5 = f5[['Host_Death_Time', 'Level', 'Phase', 'Waterflow_Death', 'Health_Pct', 'Phantom_Count', 'Phantom_Death']]\n",
        "\n",
        "#selecionando os 5 seguintes (dados de teste)\n",
        "\n",
        "#n5 eh equivalente ao X_test, e trg10 ao y_test\n",
        "n5 = base.iloc[[5,6,7,8,9]] #n5 significa next 5\n",
        "trg1 = n5[['Host_Build']] #trg10 significa target 1\n",
        "\n",
        "n5 = n5[['Host_Death_Time', 'Level', 'Phase', 'Waterflow_Death', 'Health_Pct', 'Phantom_Count', 'Phantom_Death']]\n",
        "\n",
        "clf1 = KNeighborsClassifier(p=1, n_neighbors=5, weights = 'distance', algorithm = 'auto')\n",
        "\n",
        "clf1.fit(f5, np.ravel(trg))"
      ],
      "metadata": {
        "id": "wriLDo4ROHzB",
        "colab": {
          "base_uri": "https://localhost:8080/"
        },
        "outputId": "d7433e73-415c-4875-88a1-644e42068153"
      },
      "execution_count": null,
      "outputs": [
        {
          "output_type": "execute_result",
          "data": {
            "text/plain": [
              "KNeighborsClassifier(p=1, weights='distance')"
            ]
          },
          "metadata": {},
          "execution_count": 7
        }
      ]
    },
    {
      "cell_type": "code",
      "source": [
        "#valores preditos\n",
        "predic1 = clf1.predict(n5)\n",
        "print(predic1)"
      ],
      "metadata": {
        "id": "0cjOMFlMYhYa",
        "colab": {
          "base_uri": "https://localhost:8080/"
        },
        "outputId": "7b1283bd-0e1c-42fa-f280-95bc8cf6b135"
      },
      "execution_count": null,
      "outputs": [
        {
          "output_type": "stream",
          "name": "stdout",
          "text": [
            "['HYBRID' 'RAW_MELEE' 'HYBRID' 'PROC_CAST' 'HYBRID']\n"
          ]
        }
      ]
    },
    {
      "cell_type": "code",
      "source": [
        "#acuracia do algoritmo\n",
        "print(accuracy_score(trg1, predic1))"
      ],
      "metadata": {
        "id": "nhHoWbOvYft5",
        "colab": {
          "base_uri": "https://localhost:8080/"
        },
        "outputId": "3236d912-b173-49e6-b008-e22a19e5f74a"
      },
      "execution_count": null,
      "outputs": [
        {
          "output_type": "stream",
          "name": "stdout",
          "text": [
            "0.2\n"
          ]
        }
      ]
    },
    {
      "cell_type": "code",
      "source": [
        "#valores corretos\n",
        "certos = base.iloc[[5,6,7,8,9]]\n",
        "certos"
      ],
      "metadata": {
        "id": "SFRoyl0SYe84",
        "colab": {
          "base_uri": "https://localhost:8080/",
          "height": 206
        },
        "outputId": "3c7929b8-e636-4fb8-cc27-d44bfb8c31d7"
      },
      "execution_count": null,
      "outputs": [
        {
          "output_type": "execute_result",
          "data": {
            "text/plain": [
              "    Host_Death_Time  Host_Build  Level  Phase  Waterflow_Death  Health_Pct  \\\n",
              "7              73.0      HYBRID  172.0    1.0             True        86.0   \n",
              "8             292.0    RAW_CAST  133.0    1.0             True        12.0   \n",
              "10             79.0    RAW_CAST  137.0    1.0            False        62.0   \n",
              "11            159.0   RAW_MELEE  139.0    2.0            False        21.0   \n",
              "13            288.0  PROC_MELEE  173.0    2.0            False        71.0   \n",
              "\n",
              "   Location  Phantom_Count Phantom_Build Phantom_Death  \n",
              "7     INNER            2.0     PROC_CAST          True  \n",
              "8     INNER            2.0        HYBRID         False  \n",
              "10    OUTER            2.0     PROC_CAST         False  \n",
              "11    INNER            2.0        HYBRID         False  \n",
              "13    OUTER            2.0    PROC_MELEE          True  "
            ],
            "text/html": [
              "\n",
              "  <div id=\"df-a746147d-2a55-4e29-9755-96a1dedcaaff\">\n",
              "    <div class=\"colab-df-container\">\n",
              "      <div>\n",
              "<style scoped>\n",
              "    .dataframe tbody tr th:only-of-type {\n",
              "        vertical-align: middle;\n",
              "    }\n",
              "\n",
              "    .dataframe tbody tr th {\n",
              "        vertical-align: top;\n",
              "    }\n",
              "\n",
              "    .dataframe thead th {\n",
              "        text-align: right;\n",
              "    }\n",
              "</style>\n",
              "<table border=\"1\" class=\"dataframe\">\n",
              "  <thead>\n",
              "    <tr style=\"text-align: right;\">\n",
              "      <th></th>\n",
              "      <th>Host_Death_Time</th>\n",
              "      <th>Host_Build</th>\n",
              "      <th>Level</th>\n",
              "      <th>Phase</th>\n",
              "      <th>Waterflow_Death</th>\n",
              "      <th>Health_Pct</th>\n",
              "      <th>Location</th>\n",
              "      <th>Phantom_Count</th>\n",
              "      <th>Phantom_Build</th>\n",
              "      <th>Phantom_Death</th>\n",
              "    </tr>\n",
              "  </thead>\n",
              "  <tbody>\n",
              "    <tr>\n",
              "      <th>7</th>\n",
              "      <td>73.0</td>\n",
              "      <td>HYBRID</td>\n",
              "      <td>172.0</td>\n",
              "      <td>1.0</td>\n",
              "      <td>True</td>\n",
              "      <td>86.0</td>\n",
              "      <td>INNER</td>\n",
              "      <td>2.0</td>\n",
              "      <td>PROC_CAST</td>\n",
              "      <td>True</td>\n",
              "    </tr>\n",
              "    <tr>\n",
              "      <th>8</th>\n",
              "      <td>292.0</td>\n",
              "      <td>RAW_CAST</td>\n",
              "      <td>133.0</td>\n",
              "      <td>1.0</td>\n",
              "      <td>True</td>\n",
              "      <td>12.0</td>\n",
              "      <td>INNER</td>\n",
              "      <td>2.0</td>\n",
              "      <td>HYBRID</td>\n",
              "      <td>False</td>\n",
              "    </tr>\n",
              "    <tr>\n",
              "      <th>10</th>\n",
              "      <td>79.0</td>\n",
              "      <td>RAW_CAST</td>\n",
              "      <td>137.0</td>\n",
              "      <td>1.0</td>\n",
              "      <td>False</td>\n",
              "      <td>62.0</td>\n",
              "      <td>OUTER</td>\n",
              "      <td>2.0</td>\n",
              "      <td>PROC_CAST</td>\n",
              "      <td>False</td>\n",
              "    </tr>\n",
              "    <tr>\n",
              "      <th>11</th>\n",
              "      <td>159.0</td>\n",
              "      <td>RAW_MELEE</td>\n",
              "      <td>139.0</td>\n",
              "      <td>2.0</td>\n",
              "      <td>False</td>\n",
              "      <td>21.0</td>\n",
              "      <td>INNER</td>\n",
              "      <td>2.0</td>\n",
              "      <td>HYBRID</td>\n",
              "      <td>False</td>\n",
              "    </tr>\n",
              "    <tr>\n",
              "      <th>13</th>\n",
              "      <td>288.0</td>\n",
              "      <td>PROC_MELEE</td>\n",
              "      <td>173.0</td>\n",
              "      <td>2.0</td>\n",
              "      <td>False</td>\n",
              "      <td>71.0</td>\n",
              "      <td>OUTER</td>\n",
              "      <td>2.0</td>\n",
              "      <td>PROC_MELEE</td>\n",
              "      <td>True</td>\n",
              "    </tr>\n",
              "  </tbody>\n",
              "</table>\n",
              "</div>\n",
              "      <button class=\"colab-df-convert\" onclick=\"convertToInteractive('df-a746147d-2a55-4e29-9755-96a1dedcaaff')\"\n",
              "              title=\"Convert this dataframe to an interactive table.\"\n",
              "              style=\"display:none;\">\n",
              "        \n",
              "  <svg xmlns=\"http://www.w3.org/2000/svg\" height=\"24px\"viewBox=\"0 0 24 24\"\n",
              "       width=\"24px\">\n",
              "    <path d=\"M0 0h24v24H0V0z\" fill=\"none\"/>\n",
              "    <path d=\"M18.56 5.44l.94 2.06.94-2.06 2.06-.94-2.06-.94-.94-2.06-.94 2.06-2.06.94zm-11 1L8.5 8.5l.94-2.06 2.06-.94-2.06-.94L8.5 2.5l-.94 2.06-2.06.94zm10 10l.94 2.06.94-2.06 2.06-.94-2.06-.94-.94-2.06-.94 2.06-2.06.94z\"/><path d=\"M17.41 7.96l-1.37-1.37c-.4-.4-.92-.59-1.43-.59-.52 0-1.04.2-1.43.59L10.3 9.45l-7.72 7.72c-.78.78-.78 2.05 0 2.83L4 21.41c.39.39.9.59 1.41.59.51 0 1.02-.2 1.41-.59l7.78-7.78 2.81-2.81c.8-.78.8-2.07 0-2.86zM5.41 20L4 18.59l7.72-7.72 1.47 1.35L5.41 20z\"/>\n",
              "  </svg>\n",
              "      </button>\n",
              "      \n",
              "  <style>\n",
              "    .colab-df-container {\n",
              "      display:flex;\n",
              "      flex-wrap:wrap;\n",
              "      gap: 12px;\n",
              "    }\n",
              "\n",
              "    .colab-df-convert {\n",
              "      background-color: #E8F0FE;\n",
              "      border: none;\n",
              "      border-radius: 50%;\n",
              "      cursor: pointer;\n",
              "      display: none;\n",
              "      fill: #1967D2;\n",
              "      height: 32px;\n",
              "      padding: 0 0 0 0;\n",
              "      width: 32px;\n",
              "    }\n",
              "\n",
              "    .colab-df-convert:hover {\n",
              "      background-color: #E2EBFA;\n",
              "      box-shadow: 0px 1px 2px rgba(60, 64, 67, 0.3), 0px 1px 3px 1px rgba(60, 64, 67, 0.15);\n",
              "      fill: #174EA6;\n",
              "    }\n",
              "\n",
              "    [theme=dark] .colab-df-convert {\n",
              "      background-color: #3B4455;\n",
              "      fill: #D2E3FC;\n",
              "    }\n",
              "\n",
              "    [theme=dark] .colab-df-convert:hover {\n",
              "      background-color: #434B5C;\n",
              "      box-shadow: 0px 1px 3px 1px rgba(0, 0, 0, 0.15);\n",
              "      filter: drop-shadow(0px 1px 2px rgba(0, 0, 0, 0.3));\n",
              "      fill: #FFFFFF;\n",
              "    }\n",
              "  </style>\n",
              "\n",
              "      <script>\n",
              "        const buttonEl =\n",
              "          document.querySelector('#df-a746147d-2a55-4e29-9755-96a1dedcaaff button.colab-df-convert');\n",
              "        buttonEl.style.display =\n",
              "          google.colab.kernel.accessAllowed ? 'block' : 'none';\n",
              "\n",
              "        async function convertToInteractive(key) {\n",
              "          const element = document.querySelector('#df-a746147d-2a55-4e29-9755-96a1dedcaaff');\n",
              "          const dataTable =\n",
              "            await google.colab.kernel.invokeFunction('convertToInteractive',\n",
              "                                                     [key], {});\n",
              "          if (!dataTable) return;\n",
              "\n",
              "          const docLinkHtml = 'Like what you see? Visit the ' +\n",
              "            '<a target=\"_blank\" href=https://colab.research.google.com/notebooks/data_table.ipynb>data table notebook</a>'\n",
              "            + ' to learn more about interactive tables.';\n",
              "          element.innerHTML = '';\n",
              "          dataTable['output_type'] = 'display_data';\n",
              "          await google.colab.output.renderOutput(dataTable, element);\n",
              "          const docLink = document.createElement('div');\n",
              "          docLink.innerHTML = docLinkHtml;\n",
              "          element.appendChild(docLink);\n",
              "        }\n",
              "      </script>\n",
              "    </div>\n",
              "  </div>\n",
              "  "
            ]
          },
          "metadata": {},
          "execution_count": 10
        }
      ]
    },
    {
      "cell_type": "markdown",
      "source": [
        "Matriz de confusão:\n",
        "\n",
        "![Captura de tela de 2022-04-23 19-26-38.png](data:image/png;base64,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)"
      ],
      "metadata": {
        "id": "BqdkSm7vgKyt"
      }
    },
    {
      "cell_type": "markdown",
      "source": [
        "Organizando os valores, temos:\n",
        "\n",
        "PROC_CAST:\n",
        "\n",
        "VP = 0; VN = 4; FP = 0; FN = 1.\n",
        "\n",
        "PROC_MELEE:\n",
        "\n",
        "VP = 0; VN = 3; FP = 1; FN = 0.\n",
        "\n",
        "RAW_CAST:\n",
        "\n",
        "VP = 0; VN = 3; FP = 2; FN = 0.\n",
        "\n",
        "RAW_MELEE:\n",
        "\n",
        "VP = 0; VN = 3; FP = 1; FN = 1.\n",
        "\n",
        "HYBRID:\n",
        "\n",
        "VP = 1; VN = 2; FP = 0; FN = 2."
      ],
      "metadata": {
        "id": "EH7VI7yViVvk"
      }
    },
    {
      "cell_type": "code",
      "source": [
        "#Calculando a acuracia media\n",
        "def acu(vp, vn, fp, fn):\n",
        "    ac = (vp+vn)/(vp+vn+fp+fn)\n",
        "    return ac\n",
        "\n",
        "acu_med = (acu(0,4,0,1) + acu(0,3,1,0) + acu(0,3,2,0) + acu(0,3,1,1) + acu(1,2,0,2))/5\n",
        "print(acu_med)\n",
        "\n",
        "#nao da para usar outras metricas de avalicao por que o denominador nas formulas normalmente daria 0, nesse exemplo."
      ],
      "metadata": {
        "colab": {
          "base_uri": "https://localhost:8080/"
        },
        "id": "KnCZZ6sMnwy6",
        "outputId": "e8c75c1b-1e40-462d-d4d6-23ac0c388a62"
      },
      "execution_count": null,
      "outputs": [
        {
          "output_type": "stream",
          "name": "stdout",
          "text": [
            "0.67\n"
          ]
        }
      ]
    },
    {
      "cell_type": "markdown",
      "source": [
        "Foi possível concluir que apesar do algorítimo ter acertado apenas 20% das previsões, ele não estava tão longe assim de acerta-las, visto que a acurácia deu 67%."
      ],
      "metadata": {
        "id": "tRO1sV9fpq2K"
      }
    },
    {
      "cell_type": "code",
      "source": [
        "#topico 4.\n",
        "#Distancia euclidiana (p = 2)\n",
        "clf = KNeighborsClassifier(p=2, n_neighbors=5, weights = 'distance')\n",
        "clf.fit(X_train, y_train)\n",
        "\n",
        "predic = clf.predict(X_test)\n",
        "print(predic)"
      ],
      "metadata": {
        "id": "FybV7X2HlDhH"
      },
      "execution_count": null,
      "outputs": []
    },
    {
      "cell_type": "code",
      "source": [
        "#acuracia do algoritmo com p=2\n",
        "print(accuracy_score(y_test, predic))"
      ],
      "metadata": {
        "id": "XAPaSHNTrJem"
      },
      "execution_count": null,
      "outputs": []
    },
    {
      "cell_type": "code",
      "source": [
        "#Distancia de Manhattan (p = 1)\n",
        "clf = KNeighborsClassifier(p=1, n_neighbors=5, weights = 'distance')\n",
        "clf.fit(X_train, y_train)\n",
        "\n",
        "predic = clf.predict(X_test)\n",
        "print(predic)\n",
        "#acuracia do algoritmo com p = 1\n",
        "print(accuracy_score(y_test, predic))"
      ],
      "metadata": {
        "id": "LgJk6-fPl1ZG"
      },
      "execution_count": null,
      "outputs": []
    },
    {
      "cell_type": "markdown",
      "source": [
        "4 - (2 Pontos) Considerando a matriz de confusão abaixo, quais são os valores das\n",
        "métricas listadas abaixo?\n",
        "\n",
        "Sensibilidade\n",
        "\n",
        "Especificidade\n",
        "\n",
        "Precisão\n",
        "\n",
        "Medida F1\n",
        "\n",
        "Acurácia\n",
        "\n",
        "Coeficiente de Matthews\n",
        "\n",
        "AUC\n",
        "\n",
        "Como você resolveria o problema dessa base de dados observando as métricas de\n",
        "avaliação?"
      ],
      "metadata": {
        "id": "K8m2NcnKeDKq"
      }
    },
    {
      "cell_type": "markdown",
      "source": [
        "Resposta: Agrupando todos os valores corretamente, temos:\n",
        "\n",
        "Maçãs: \n",
        "\n",
        "VP: 70; VN: 1191; FP: 30; FN: 20.\n",
        "\n",
        "Laranjas:\n",
        "\n",
        "VP: 67; VN: 1157; FP: 33; FN: 54.\n",
        "\n",
        "Limões: \n",
        "\n",
        "VP: 55; NV: 1201; FP: 45; FN: 10;\n",
        "\n",
        "Mangas: \n",
        "\n",
        "VP: 1000; VN: 265; FP: 11; FN: 35;"
      ],
      "metadata": {
        "id": "N0hvXToWfvmi"
      }
    },
    {
      "cell_type": "code",
      "source": [
        "import math\n",
        "class Fruit:\n",
        "  def __init__(self, vp, vn, fp, fn):\n",
        "    self.vp = vp\n",
        "    self.vn = vn\n",
        "    self.fp = fp\n",
        "    self.fn = fn\n",
        "\n",
        "#criando os objetos\n",
        "apple = Fruit(70,1191,30,20)\n",
        "\n",
        "orange = Fruit(67,1157,33,54)\n",
        "\n",
        "lemon = Fruit(55,1201,45,10)\n",
        "\n",
        "mango = Fruit(1000,265,11,35)\n",
        "\n",
        "#calculando a sensibilidade, depois a sensibilidade media\n",
        "def sensibilidade(vp, fn):\n",
        "  sensibilidade = (vp/(vp+fn))\n",
        "  return sensibilidade\n",
        "\n",
        "#calculando tudo:\n",
        "sense_media = (sensibilidade(apple.vp, apple.fn) + sensibilidade(orange.vp, orange.fn) + sensibilidade(lemon.vp, lemon.fn) + sensibilidade(mango.vp, mango.fn))/4\n",
        "print(sensibilidade(apple.vp, apple.fn))\n",
        "print(sensibilidade(orange.vp, orange.fn))\n",
        "print(sensibilidade(lemon.vp, lemon.fn))\n",
        "print(sensibilidade(mango.vp, mango.fn))\n",
        "\n",
        "print(sense_media)\n",
        "#resultado da media: 0.7859585517688285\n",
        "\n",
        "#calculando a especificidade:\n",
        "def espec(vn, fp):\n",
        "  es = vn/(vn+fp)\n",
        "  return es\n",
        "\n",
        "es_media = (espec(apple.vn, apple.fp) + espec(orange.vn, orange.fp) + espec(lemon.vn, lemon.fp) + (espec(mango.vn, mango.fp)))/4\n",
        "print(espec(apple.vn, apple.fp))\n",
        "print(espec(orange.vn, orange.fp))\n",
        "print(espec(lemon.vn, lemon.fp))\n",
        "print(espec(mango.vn, mango.fp))\n",
        "\n",
        "print(es_media)\n",
        "#resultado da media: 0.9679320601764494\n",
        "\n",
        "#calculando a precisao\n",
        "def prec(vp, fp):\n",
        "  pre = vp/(vp+fp)\n",
        "  return pre\n",
        "\n",
        "pre_media = (prec(apple.vp, apple.fp) + (prec(orange.vp, orange.fp)) + prec(lemon.vp, lemon.fp) + prec(mango.vp, mango.fp))/4\n",
        "print(prec(apple.vp, apple.fp))\n",
        "print(prec(orange.vp, orange.fp))\n",
        "print(prec(lemon.vp, lemon.fp))\n",
        "print(prec(mango.vp, mango.fp))\n",
        "\n",
        "print(pre_media)\n",
        "#resultado da media: 0.7272799208704254\n",
        "\n",
        "#calculando a Medida-F1\n",
        "def med(prec, sens):\n",
        "    mf = 2*((prec*sens)/(prec+sens))\n",
        "    return mf\n",
        "\n",
        "mf_media = (med(prec(apple.vp, apple.fp), sensibilidade(apple.vp, apple.fn))\n",
        "+ med(prec(orange.vp, orange.fp), sensibilidade(orange.vp, orange.fn))\n",
        "+ med(prec(lemon.vp, lemon.fp), sensibilidade(lemon.vp, lemon.fn)\n",
        "+ med(prec(mango.vp, mango.fp), sensibilidade(mango.vp, mango.fn))))/4\n",
        "\n",
        "print(med(prec(apple.vp, apple.fp), sensibilidade(apple.vp, apple.fn)))\n",
        "print(med(prec(orange.vp, orange.fp), sensibilidade(orange.vp, orange.fn)))\n",
        "print(med(prec(lemon.vp, lemon.fp), sensibilidade(lemon.vp, lemon.fn)))\n",
        "print(med(prec(mango.vp, mango.fp), sensibilidade(mango.vp, mango.fn)))\n",
        "\n",
        "print(mf_media)\n",
        "#resultado da media: 0.5470743686310549\n",
        "\n",
        "#calculando a acurácia total\n",
        "def acu(vp, vn, fp, fn):\n",
        "    ac = (vp+vn)/(vp+vn+fp+fn)\n",
        "    return ac\n",
        "\n",
        "acu_media = (acu(apple.vp, apple.vn, apple.fp, apple.fn)\n",
        "+ acu(orange.vp, orange.vn, orange.fp, orange.fn)\n",
        "+ acu(lemon.vp, lemon.vn, lemon.fp, lemon.fn)\n",
        "+ acu(mango.vp, mango.vn, mango.fp, mango.fn))/4\n",
        "\n",
        "print(acu(apple.vp, apple.vn, apple.fp, apple.fn))\n",
        "print(acu(orange.vp, orange.vn, orange.fp, orange.fn))\n",
        "print(acu(lemon.vp, lemon.vn, lemon.fp, lemon.fn))\n",
        "print(acu(mango.vp, mango.vn, mango.fp, mango.fn))\n",
        "\n",
        "print(acu_media)\n",
        "#resultado da media: 0.9546147978642258\n",
        "\n",
        "#calculando o coeficient de matthews\n",
        "def mat(vp, vn, fp, fn):\n",
        "    p = ((vp * vn) - (fp * fn))/math.sqrt(((vp+fp)*(vp+fn)*(vn+fp)*(vn+fn)))\n",
        "    return p\n",
        "\n",
        "mat_med = (mat(apple.vp, apple.vn, apple.fp, apple.fn)\n",
        "+ mat(orange.vp, orange.vn, orange.fp, orange.fn)\n",
        "+ mat(lemon.vp, lemon.vn, lemon.fp, lemon.fn)\n",
        "+ mat(mango.vp, mango.vn, mango.fp, mango.fn))/4\n",
        "\n",
        "print(mat(apple.vp, apple.vn, apple.fp, apple.fn))\n",
        "print(mat(orange.vp, orange.vn, orange.fp, orange.fn))\n",
        "print(mat(lemon.vp, lemon.vn, lemon.fp, lemon.fn))\n",
        "print(mat(mango.vp, mango.vn, mango.fp, mango.fn))\n",
        "\n",
        "print(mat_med)\n",
        "#resultado da media: 0.7131197999274905\n",
        "\n",
        "#calculando a auc\n",
        "\n",
        "taxa_de_vp = sense_media\n",
        "taxa_de_fp = (1- es_media)\n",
        "\n",
        "x = np.array([0, taxa_de_vp, 1])\n",
        "y = np.array([0, taxa_de_fp, 1])\n",
        "\n",
        "AUC = np.trapz(x, y)\n",
        "\n",
        "print(AUC)\n",
        "#resultado da auc = 0.8769453059726389"
      ],
      "metadata": {
        "id": "3DiOb7egfn88"
      },
      "execution_count": null,
      "outputs": []
    },
    {
      "cell_type": "markdown",
      "source": [
        "Uma mudança no algorítmo do moledo de predição seria necessária para uma maior eficácia das medidas de desempenho. Fazer um modelo baseado no aprendizado semi-supervisionado pode ter um impacto positivo, já que ele possuirá uma maior quantidade de informações em seu banco, aumentando a precisão."
      ],
      "metadata": {
        "id": "ABqSBvshtQBB"
      }
    },
    {
      "cell_type": "markdown",
      "source": [
        "(PONTO EXTRA) Elabore uma pergunta e responda sobre \"Preconceito e Inteligência\n",
        "Artificial\", refletindo aspectos importantes do método que uma pessoa engenheiro de\n",
        "dados/cientista de dados deve conhecer e se preocupar garantindo ética nos modelos\n",
        "criados"
      ],
      "metadata": {
        "id": "hInRWioQwBKJ"
      }
    },
    {
      "cell_type": "markdown",
      "source": [
        "\"Seria certo que um robô, pensando apenas de maneira racional, numa situação em que não existe outra escolha possível, escolha matar uma criança para salvar 10?\"\n",
        "\n",
        "Esse sempre foi um dilema da humanidade, aonde um ultimato é dado, e as suas escolhas podem influenciar diretamente num futuro ruim. Pensar em uma forma de salvar todas as 11 crianças é que seria o ideal, e provavelmente o que um ser humano faria, mesmo que não houvesse outra escolha, somente para ai sim pensar em uma das escolhas que foram dadas. Pensar de maneira racional e emocional é o que faz do ser humano um ser tão complexo, e não há uma resposta correta para essa pergunta, apenas mais indagações. Seria necessário tentar implementar algo neste robô que o faça ter algum tipo pensamento que lembre o emocional, ou que essa decisão fosse tomada apenas em último caso."
      ],
      "metadata": {
        "id": "jaWIKhrPwD4w"
      }
    }
  ]
}